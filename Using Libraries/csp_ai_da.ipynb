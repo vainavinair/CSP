{
 "cells": [
  {
   "cell_type": "code",
   "execution_count": 1,
   "metadata": {},
   "outputs": [],
   "source": [
    "from simpleai.search import CspProblem, backtrack\n",
    "import random"
   ]
  },
  {
   "cell_type": "code",
   "execution_count": 2,
   "metadata": {},
   "outputs": [],
   "source": [
    "# Constants\n",
    "SUBJECTS = [str(i) for i in range(40)]\n",
    "DAYS = ['Monday', 'Tuesday', 'Wednesday','Thursday','Friday','Saturday']\n",
    "NUM_STUDENTS = 70\n"
   ]
  },
  {
   "cell_type": "code",
   "execution_count": 3,
   "metadata": {},
   "outputs": [],
   "source": [
    "# Variables: Each subject is a variable\n",
    "variables = SUBJECTS\n",
    "\n",
    "# Domains: Each subject can be scheduled on any day of the week\n",
    "domains = {subject: DAYS for subject in SUBJECTS}"
   ]
  },
  {
   "cell_type": "code",
   "execution_count": 4,
   "metadata": {},
   "outputs": [],
   "source": [
    "# Generate random student choices\n",
    "def generate_student_schedules(num_students, subjects, subjects_per_student=3):\n",
    "    return [random.sample(subjects, subjects_per_student) for _ in range(num_students)]\n",
    "\n",
    "# Generate student schedules\n",
    "student_subjects = generate_student_schedules(NUM_STUDENTS, SUBJECTS)"
   ]
  },
  {
   "cell_type": "code",
   "execution_count": 5,
   "metadata": {},
   "outputs": [],
   "source": [
    "# Constraint: No student should have two exams on the same day\n",
    "def no_conflict(variables, values):\n",
    "    day1, day2 = values\n",
    "    for subject in student_subjects:\n",
    "        if variables[0] in subject and variables[1] in subject:\n",
    "            if day1 == day2:\n",
    "                return False\n",
    "    return True"
   ]
  },
  {
   "cell_type": "code",
   "execution_count": 6,
   "metadata": {},
   "outputs": [],
   "source": [
    "# Generate constraints\n",
    "constraints = []\n",
    "for i, subject1 in enumerate(SUBJECTS):\n",
    "    for subject2 in SUBJECTS[i+1:]:\n",
    "        constraints.append(((subject1, subject2), no_conflict))"
   ]
  },
  {
   "cell_type": "code",
   "execution_count": 7,
   "metadata": {},
   "outputs": [
    {
     "name": "stdout",
     "output_type": "stream",
     "text": [
      "No solution found.\n"
     ]
    }
   ],
   "source": [
    "for i in range(1):\n",
    "    # Create the CSP problem\n",
    "    problem = CspProblem(variables, domains, constraints)\n",
    "\n",
    "    # Solve the problem\n",
    "    result = backtrack(problem, variable_heuristic='HIGHEST_DEGREE_VARIABLE', value_heuristic='LEAST_CONSTRAINING_VALUE', inference=True)\n",
    "\n",
    "    # Print the result\n",
    "    if result:\n",
    "        print(\"Exam Schedule:\")\n",
    "        for subject, day in result.items():\n",
    "            print(f\"{subject}: {day}\")\n",
    "    else:\n",
    "        print(\"No solution found.\")\n"
   ]
  },
  {
   "cell_type": "code",
   "execution_count": 8,
   "metadata": {},
   "outputs": [],
   "source": [
    "# Verify the solution\n",
    "def verify_solution(schedule, student_subjects):\n",
    "    for subject in student_subjects:\n",
    "        exam_days = [schedule[subject] for subject in subject]\n",
    "        if len(exam_days) != len(set(exam_days)):\n",
    "            return False\n",
    "    return True\n",
    "\n",
    "if result:\n",
    "    is_valid = verify_solution(result, student_subjects)\n",
    "    print(f\"\\nIs the solution valid? {'Yes' if is_valid else 'No'}\")"
   ]
  },
  {
   "cell_type": "code",
   "execution_count": 70,
   "metadata": {},
   "outputs": [
    {
     "data": {
      "text/plain": [
       "[['D', 'A', 'C'],\n",
       " ['S', 'A', 'K'],\n",
       " ['I', 'B', 'S'],\n",
       " ['T', 'I', 'Q'],\n",
       " ['A', 'P', 'I'],\n",
       " ['I', 'A', 'L'],\n",
       " ['I', 'T', 'E'],\n",
       " ['C', 'G', 'T'],\n",
       " ['R', 'M', 'T'],\n",
       " ['M', 'L', 'B'],\n",
       " ['N', 'A', 'S'],\n",
       " ['C', 'I', 'K'],\n",
       " ['H', 'J', 'Q'],\n",
       " ['Q', 'R', 'L'],\n",
       " ['R', 'K', 'L'],\n",
       " ['Q', 'N', 'A'],\n",
       " ['O', 'G', 'I'],\n",
       " ['H', 'C', 'I'],\n",
       " ['F', 'O', 'R'],\n",
       " ['M', 'I', 'R'],\n",
       " ['C', 'S', 'G'],\n",
       " ['A', 'R', 'N'],\n",
       " ['M', 'P', 'H'],\n",
       " ['J', 'P', 'M'],\n",
       " ['D', 'E', 'H'],\n",
       " ['K', 'Q', 'A'],\n",
       " ['H', 'D', 'N'],\n",
       " ['P', 'E', 'B'],\n",
       " ['L', 'M', 'C'],\n",
       " ['H', 'Q', 'P'],\n",
       " ['J', 'I', 'Q'],\n",
       " ['T', 'G', 'Q'],\n",
       " ['D', 'C', 'M'],\n",
       " ['F', 'A', 'L'],\n",
       " ['C', 'G', 'E'],\n",
       " ['Q', 'N', 'T'],\n",
       " ['I', 'T', 'D'],\n",
       " ['A', 'I', 'Q'],\n",
       " ['G', 'F', 'H'],\n",
       " ['K', 'O', 'N'],\n",
       " ['M', 'K', 'A'],\n",
       " ['A', 'P', 'R'],\n",
       " ['H', 'P', 'J'],\n",
       " ['E', 'M', 'L'],\n",
       " ['Q', 'T', 'P'],\n",
       " ['H', 'K', 'J'],\n",
       " ['E', 'A', 'H'],\n",
       " ['P', 'I', 'F'],\n",
       " ['G', 'B', 'J'],\n",
       " ['N', 'O', 'R'],\n",
       " ['T', 'L', 'A'],\n",
       " ['E', 'D', 'R'],\n",
       " ['K', 'G', 'L'],\n",
       " ['G', 'B', 'I'],\n",
       " ['B', 'R', 'D'],\n",
       " ['I', 'M', 'O'],\n",
       " ['F', 'I', 'L'],\n",
       " ['L', 'M', 'I'],\n",
       " ['P', 'D', 'E'],\n",
       " ['Q', 'T', 'I'],\n",
       " ['D', 'E', 'A'],\n",
       " ['D', 'S', 'R'],\n",
       " ['G', 'J', 'I'],\n",
       " ['O', 'B', 'F'],\n",
       " ['Q', 'S', 'L'],\n",
       " ['L', 'K', 'A'],\n",
       " ['G', 'L', 'D'],\n",
       " ['G', 'M', 'P'],\n",
       " ['K', 'A', 'B'],\n",
       " ['Q', 'S', 'J']]"
      ]
     },
     "execution_count": 70,
     "metadata": {},
     "output_type": "execute_result"
    }
   ],
   "source": [
    "student_subjects"
   ]
  },
  {
   "cell_type": "code",
   "execution_count": 71,
   "metadata": {},
   "outputs": [
    {
     "name": "stdout",
     "output_type": "stream",
     "text": [
      "Subject Counts:\n",
      "A: 17\n",
      "B: 8\n",
      "C: 8\n",
      "D: 11\n",
      "E: 9\n",
      "F: 6\n",
      "G: 12\n",
      "H: 10\n",
      "I: 19\n",
      "J: 8\n",
      "K: 10\n",
      "L: 14\n",
      "M: 12\n",
      "N: 7\n",
      "O: 6\n",
      "P: 11\n",
      "Q: 14\n",
      "R: 11\n",
      "S: 7\n",
      "T: 10\n"
     ]
    }
   ],
   "source": [
    "# Initialize a dictionary to hold counts\n",
    "subject_counts = {subject: 0 for subject in SUBJECTS}\n",
    "\n",
    "# Count occurrences of each subject in student schedules\n",
    "for student_schedule in student_subjects:\n",
    "    for subject in student_schedule:\n",
    "        subject_counts[subject] += 1\n",
    "\n",
    "# Print the counts\n",
    "print(\"Subject Counts:\")\n",
    "for subject, count in subject_counts.items():\n",
    "    print(f\"{subject}: {count}\")\n"
   ]
  }
 ],
 "metadata": {
  "kernelspec": {
   "display_name": "Python 3",
   "language": "python",
   "name": "python3"
  },
  "language_info": {
   "codemirror_mode": {
    "name": "ipython",
    "version": 3
   },
   "file_extension": ".py",
   "mimetype": "text/x-python",
   "name": "python",
   "nbconvert_exporter": "python",
   "pygments_lexer": "ipython3",
   "version": "3.11.4"
  }
 },
 "nbformat": 4,
 "nbformat_minor": 2
}
